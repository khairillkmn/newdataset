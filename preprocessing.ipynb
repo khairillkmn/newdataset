{
  "nbformat": 4,
  "nbformat_minor": 0,
  "metadata": {
    "colab": {
      "provenance": [],
      "authorship_tag": "ABX9TyOnX9SWSdntFby9jNrY6/Ha",
      "include_colab_link": true
    },
    "kernelspec": {
      "name": "python3",
      "display_name": "Python 3"
    },
    "language_info": {
      "name": "python"
    }
  },
  "cells": [
    {
      "cell_type": "markdown",
      "metadata": {
        "id": "view-in-github",
        "colab_type": "text"
      },
      "source": [
        "<a href=\"https://colab.research.google.com/github/khairillkmn/newdataset/blob/main/preprocessing.ipynb\" target=\"_parent\"><img src=\"https://colab.research.google.com/assets/colab-badge.svg\" alt=\"Open In Colab\"/></a>"
      ]
    },
    {
      "cell_type": "code",
      "execution_count": 1,
      "metadata": {
        "id": "coUzMvXPcYIL"
      },
      "outputs": [],
      "source": [
        "import numpy as np\n",
        "import matplotlib.pyplot as plt\n",
        "import pandas as pd"
      ]
    },
    {
      "cell_type": "code",
      "source": [
        "dataset = pd.read_csv('Data.csv')\n",
        "x = dataset.iloc[:, :-1].values\n",
        "y = dataset.iloc[:, -1].values"
      ],
      "metadata": {
        "id": "DbQylF9jdUeg"
      },
      "execution_count": 2,
      "outputs": []
    },
    {
      "cell_type": "code",
      "source": [
        "print(x)"
      ],
      "metadata": {
        "colab": {
          "base_uri": "https://localhost:8080/"
        },
        "id": "0jepH0NydW-W",
        "outputId": "fc92eee5-561d-4ce0-db3a-05351438fe2e"
      },
      "execution_count": 3,
      "outputs": [
        {
          "output_type": "stream",
          "name": "stdout",
          "text": [
            "[['India' 34.0 92000.0]\n",
            " ['Sri lanka' 22.0 25000.0]\n",
            " ['China' 31.0 74000.0]\n",
            " ['Sri lanka' 29.0 nan]\n",
            " ['China' 55.0 98000.0]\n",
            " ['India' 24.0 30000.0]\n",
            " ['Sri lanka' 28.0 40000.0]\n",
            " ['India' nan 60000.0]\n",
            " ['China' 51.0 89000.0]\n",
            " ['India' 44.0 78000.0]\n",
            " ['Sri lanka' 21.0 20000.0]\n",
            " ['China' 25.0 30000.0]\n",
            " ['India' 33.0 45000.0]\n",
            " ['India' 42.0 65000.0]\n",
            " ['Sri lanka' 33.0 22000.0]]\n"
          ]
        }
      ]
    },
    {
      "cell_type": "code",
      "source": [
        "print(y)"
      ],
      "metadata": {
        "colab": {
          "base_uri": "https://localhost:8080/"
        },
        "id": "P49xh7cfdp4n",
        "outputId": "41012cbc-60c6-4871-8770-bb81dd9e044e"
      },
      "execution_count": 4,
      "outputs": [
        {
          "output_type": "stream",
          "name": "stdout",
          "text": [
            "['Yes' 'Yes' 'Yes' 'No' 'Yes' 'No' 'No' 'No' 'Yes' 'Yes' 'No' 'Yes' 'Yes'\n",
            " 'Yes' 'No']\n"
          ]
        }
      ]
    },
    {
      "cell_type": "code",
      "source": [
        "from sklearn.impute import SimpleImputer\n",
        "imputer = SimpleImputer(missing_values=np.nan, strategy='mean')\n",
        "imputer.fit(x[:, 1:3])\n",
        "x[:, 1:3] = imputer.transform(x[:, 1:3])"
      ],
      "metadata": {
        "id": "cvXnQqbgdtyv"
      },
      "execution_count": 5,
      "outputs": []
    },
    {
      "cell_type": "code",
      "source": [
        "print(x)"
      ],
      "metadata": {
        "colab": {
          "base_uri": "https://localhost:8080/"
        },
        "id": "7Zd7Suxvd8el",
        "outputId": "d8237e3f-362a-48f3-8978-58ddc69a6b74"
      },
      "execution_count": 6,
      "outputs": [
        {
          "output_type": "stream",
          "name": "stdout",
          "text": [
            "[['India' 34.0 92000.0]\n",
            " ['Sri lanka' 22.0 25000.0]\n",
            " ['China' 31.0 74000.0]\n",
            " ['Sri lanka' 29.0 54857.142857142855]\n",
            " ['China' 55.0 98000.0]\n",
            " ['India' 24.0 30000.0]\n",
            " ['Sri lanka' 28.0 40000.0]\n",
            " ['India' 33.714285714285715 60000.0]\n",
            " ['China' 51.0 89000.0]\n",
            " ['India' 44.0 78000.0]\n",
            " ['Sri lanka' 21.0 20000.0]\n",
            " ['China' 25.0 30000.0]\n",
            " ['India' 33.0 45000.0]\n",
            " ['India' 42.0 65000.0]\n",
            " ['Sri lanka' 33.0 22000.0]]\n"
          ]
        }
      ]
    },
    {
      "cell_type": "code",
      "source": [
        "from sklearn.compose import ColumnTransformer\n",
        "from sklearn.preprocessing import OneHotEncoder\n",
        "ct = ColumnTransformer(transformers=[('encoder', OneHotEncoder(), [0])], remainder='passthrough')\n",
        "x = np.array(ct.fit_transform(x))"
      ],
      "metadata": {
        "id": "gzSvNsA6eBNo"
      },
      "execution_count": 7,
      "outputs": []
    },
    {
      "cell_type": "code",
      "source": [
        "print(x)"
      ],
      "metadata": {
        "colab": {
          "base_uri": "https://localhost:8080/"
        },
        "id": "2mqXerXJeDQU",
        "outputId": "79e0242d-e3db-4112-fbae-b07d6ee7d901"
      },
      "execution_count": 9,
      "outputs": [
        {
          "output_type": "stream",
          "name": "stdout",
          "text": [
            "[[0.0 1.0 0.0 34.0 92000.0]\n",
            " [0.0 0.0 1.0 22.0 25000.0]\n",
            " [1.0 0.0 0.0 31.0 74000.0]\n",
            " [0.0 0.0 1.0 29.0 54857.142857142855]\n",
            " [1.0 0.0 0.0 55.0 98000.0]\n",
            " [0.0 1.0 0.0 24.0 30000.0]\n",
            " [0.0 0.0 1.0 28.0 40000.0]\n",
            " [0.0 1.0 0.0 33.714285714285715 60000.0]\n",
            " [1.0 0.0 0.0 51.0 89000.0]\n",
            " [0.0 1.0 0.0 44.0 78000.0]\n",
            " [0.0 0.0 1.0 21.0 20000.0]\n",
            " [1.0 0.0 0.0 25.0 30000.0]\n",
            " [0.0 1.0 0.0 33.0 45000.0]\n",
            " [0.0 1.0 0.0 42.0 65000.0]\n",
            " [0.0 0.0 1.0 33.0 22000.0]]\n"
          ]
        }
      ]
    },
    {
      "cell_type": "code",
      "source": [
        "from sklearn.preprocessing import LabelEncoder\n",
        "le = LabelEncoder()\n",
        "y = le.fit_transform(y)"
      ],
      "metadata": {
        "id": "6Wa5G6cNeI6R"
      },
      "execution_count": 10,
      "outputs": []
    },
    {
      "cell_type": "code",
      "source": [
        "print(y)"
      ],
      "metadata": {
        "colab": {
          "base_uri": "https://localhost:8080/"
        },
        "id": "HOjIqfiqeM-D",
        "outputId": "70329078-0f9f-48d6-88a9-622bce615c97"
      },
      "execution_count": 11,
      "outputs": [
        {
          "output_type": "stream",
          "name": "stdout",
          "text": [
            "[1 1 1 0 1 0 0 0 1 1 0 1 1 1 0]\n"
          ]
        }
      ]
    },
    {
      "cell_type": "code",
      "source": [
        "from sklearn.model_selection import train_test_split\n",
        "x_train, x_test, y_train, y_test = train_test_split(x, y, test_size=0.2, random_state=1)"
      ],
      "metadata": {
        "id": "jvCrJRldeRV0"
      },
      "execution_count": 12,
      "outputs": []
    },
    {
      "cell_type": "code",
      "source": [
        "print(x_train)"
      ],
      "metadata": {
        "colab": {
          "base_uri": "https://localhost:8080/"
        },
        "id": "NYsvGK0MeTdz",
        "outputId": "7cfa4622-1c2f-4eaf-cb3b-03e627519270"
      },
      "execution_count": 13,
      "outputs": [
        {
          "output_type": "stream",
          "name": "stdout",
          "text": [
            "[[1.0 0.0 0.0 31.0 74000.0]\n",
            " [0.0 0.0 1.0 21.0 20000.0]\n",
            " [1.0 0.0 0.0 55.0 98000.0]\n",
            " [0.0 0.0 1.0 22.0 25000.0]\n",
            " [0.0 1.0 0.0 42.0 65000.0]\n",
            " [0.0 1.0 0.0 34.0 92000.0]\n",
            " [0.0 0.0 1.0 33.0 22000.0]\n",
            " [0.0 1.0 0.0 44.0 78000.0]\n",
            " [1.0 0.0 0.0 51.0 89000.0]\n",
            " [0.0 1.0 0.0 33.0 45000.0]\n",
            " [1.0 0.0 0.0 25.0 30000.0]\n",
            " [0.0 1.0 0.0 24.0 30000.0]]\n"
          ]
        }
      ]
    },
    {
      "cell_type": "code",
      "source": [
        "print(x_test)"
      ],
      "metadata": {
        "colab": {
          "base_uri": "https://localhost:8080/"
        },
        "id": "9gu9c7CZeVvD",
        "outputId": "d7d032d8-18db-4c3d-ab1e-c2ad9589b96d"
      },
      "execution_count": 14,
      "outputs": [
        {
          "output_type": "stream",
          "name": "stdout",
          "text": [
            "[[0.0 0.0 1.0 29.0 54857.142857142855]\n",
            " [0.0 1.0 0.0 33.714285714285715 60000.0]\n",
            " [0.0 0.0 1.0 28.0 40000.0]]\n"
          ]
        }
      ]
    },
    {
      "cell_type": "code",
      "source": [
        "print(y_train)"
      ],
      "metadata": {
        "colab": {
          "base_uri": "https://localhost:8080/"
        },
        "id": "UzJLgfJ_eX28",
        "outputId": "aed53f64-c4b7-4ab9-d0bd-661158f292cc"
      },
      "execution_count": 15,
      "outputs": [
        {
          "output_type": "stream",
          "name": "stdout",
          "text": [
            "[1 0 1 1 1 1 0 1 1 1 1 0]\n"
          ]
        }
      ]
    },
    {
      "cell_type": "code",
      "source": [
        "print(y_test)"
      ],
      "metadata": {
        "colab": {
          "base_uri": "https://localhost:8080/"
        },
        "id": "R-fQqkFGeaPy",
        "outputId": "1dd7ffda-7a9e-4964-d285-b342998bb22a"
      },
      "execution_count": 16,
      "outputs": [
        {
          "output_type": "stream",
          "name": "stdout",
          "text": [
            "[0 0 0]\n"
          ]
        }
      ]
    },
    {
      "cell_type": "code",
      "source": [
        "from sklearn.preprocessing import StandardScaler\n",
        "sc = StandardScaler()\n",
        "x_train[:, 3:] = sc.fit_transform(x_train[:, 3:])\n",
        "x_test[:, 3:] = sc.transform(x_test[:, 3:])"
      ],
      "metadata": {
        "id": "FAxct_FfecVC"
      },
      "execution_count": 17,
      "outputs": []
    },
    {
      "cell_type": "code",
      "source": [
        "print(x_train)"
      ],
      "metadata": {
        "colab": {
          "base_uri": "https://localhost:8080/"
        },
        "id": "Zo0d0ryFeddO",
        "outputId": "29d07e21-fa97-450a-c0f6-335c8d32e1b1"
      },
      "execution_count": 18,
      "outputs": [
        {
          "output_type": "stream",
          "name": "stdout",
          "text": [
            "[[1.0 0.0 0.0 -0.3323561357816283 0.637555294512461]\n",
            " [0.0 0.0 1.0 -1.2598616309861719 -1.2403348456878782]\n",
            " [1.0 0.0 0.0 1.8936570527092762 1.4721731346015006]\n",
            " [0.0 0.0 1.0 -1.1671110814657175 -1.0664561290026617]\n",
            " [0.0 1.0 0.0 0.6878999089433696 0.3245736044790711]\n",
            " [0.0 1.0 0.0 -0.054104487220265264 1.2635186745792406]\n",
            " [0.0 0.0 1.0 -0.14685503674071962 -1.1707833590137917]\n",
            " [0.0 1.0 0.0 0.8734010079842783 0.7766582678606342]\n",
            " [1.0 0.0 0.0 1.5226548546274588 1.1591914445681106]\n",
            " [0.0 1.0 0.0 -0.14685503674071962 -0.3709412622617953]\n",
            " [1.0 0.0 0.0 -0.8888594329043545 -0.892577412317445]\n",
            " [0.0 1.0 0.0 -0.9816099824248089 -0.892577412317445]]\n"
          ]
        }
      ]
    },
    {
      "cell_type": "code",
      "source": [
        "print(x_test)"
      ],
      "metadata": {
        "colab": {
          "base_uri": "https://localhost:8080/"
        },
        "id": "6FQ_8fbBefiS",
        "outputId": "bc17392d-f0dc-47b9-bf4d-ee6a43ebd20c"
      },
      "execution_count": 19,
      "outputs": [
        {
          "output_type": "stream",
          "name": "stdout",
          "text": [
            "[[0.0 0.0 1.0 -0.5178572348225371 -0.02815179222522553]\n",
            " [0.0 1.0 0.0 -0.08060464422610927 0.15069488779385445]\n",
            " [0.0 0.0 1.0 -0.6106077843429915 -0.544819978947012]]\n"
          ]
        }
      ]
    }
  ]
}